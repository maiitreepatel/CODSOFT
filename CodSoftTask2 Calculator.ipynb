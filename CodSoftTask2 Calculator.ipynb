{
 "cells": [
  {
   "cell_type": "code",
   "execution_count": 1,
   "id": "17c0c5da",
   "metadata": {},
   "outputs": [
    {
     "name": "stdout",
     "output_type": "stream",
     "text": [
      "Enter number 1: 1987\n",
      "Enter number 2: 1234\n",
      "Enter the operand '+' '-' '*' '/': *\n",
      "Result: 2451958.0\n"
     ]
    }
   ],
   "source": [
    "def calculate(num1,num2,operand):\n",
    "    if operand=='+':\n",
    "        return num1+num2\n",
    "    elif operand=='-':\n",
    "        return num1-num2\n",
    "    elif operand=='*':\n",
    "        return num1*num2\n",
    "    elif operand=='/':\n",
    "        if num2==0:\n",
    "            print(\"Division by zero error!\")\n",
    "        else:\n",
    "            return num1/num2\n",
    "    else:\n",
    "        print(\"Invalid Operand\")\n",
    "num1=float(input(\"Enter number 1: \"))\n",
    "num2=float(input(\"Enter number 2: \"))\n",
    "operand=input(\"Enter the operand '+' '-' '*' '/': \")\n",
    "result = calculate(num1, num2, operand)\n",
    "print(f\"Result: {result}\")\n",
    "    "
   ]
  },
  {
   "cell_type": "code",
   "execution_count": null,
   "id": "da392ae2",
   "metadata": {},
   "outputs": [],
   "source": []
  }
 ],
 "metadata": {
  "kernelspec": {
   "display_name": "Python 3 (ipykernel)",
   "language": "python",
   "name": "python3"
  },
  "language_info": {
   "codemirror_mode": {
    "name": "ipython",
    "version": 3
   },
   "file_extension": ".py",
   "mimetype": "text/x-python",
   "name": "python",
   "nbconvert_exporter": "python",
   "pygments_lexer": "ipython3",
   "version": "3.10.9"
  }
 },
 "nbformat": 4,
 "nbformat_minor": 5
}
