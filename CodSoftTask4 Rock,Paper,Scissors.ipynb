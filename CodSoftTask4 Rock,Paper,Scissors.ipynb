{
 "cells": [
  {
   "cell_type": "code",
   "execution_count": null,
   "id": "5f6ec09f",
   "metadata": {},
   "outputs": [],
   "source": [
    "import random\n",
    "def winner(user_choice, computer_choice):\n",
    "    if user_choice == computer_choice:\n",
    "        return \"It's a TIE\"\n",
    "    elif ((user_choice == 'rock' and computer_choice == 'scissors') or\n",
    "        (user_choice == 'scissors' and computer_choice == 'paper') or \n",
    "        (user_choice == 'paper' and computer_choice == 'rock')):\n",
    "        return \"YOU WIN! \" + user_choice + \" beats \" + computer_choice\n",
    "    else:\n",
    "        return \"YOU LOSE! \" + computer_choice + \" beats \" + user_choice\n",
    "\n",
    "user_score = 0\n",
    "computer_score = 0\n",
    "print(\"***Welcome to Rock, Paper, and Scissors***\")\n",
    "while True:\n",
    "    #print(\"***Welcome to Rock, Paper, and Scissors***\")\n",
    "    user_choice = input(\"Choose rock, paper, or scissors: \").lower()\n",
    "    if user_choice not in ['rock', 'paper', 'scissors']:\n",
    "        print(\"INVALID CHOICE\")\n",
    "        continue\n",
    "    \n",
    "    computer_choice = random.choice(['rock', 'paper', 'scissors'])\n",
    "    result = winner(user_choice, computer_choice)\n",
    "    if \"WIN\" in result:\n",
    "        user_score += 1\n",
    "    elif \"LOSE\" in result:\n",
    "        computer_score += 1\n",
    "    print(\"User Choice: \", user_choice, \"Computer Choice: \", computer_choice)\n",
    "    print(result)\n",
    "    print(\"User Score = \", user_score, \"Computer Score = \", computer_score)\n",
    "    again = input(\"Do you want to play again? (yes/no): \").lower()\n",
    "    if again != 'yes':\n",
    "        print(\"Thanks for playing! Final Scores: \")\n",
    "        print(\"User Score = \", user_score, \"Computer Score: \", computer_score)\n",
    "        break\n"
   ]
  }
 ],
 "metadata": {
  "kernelspec": {
   "display_name": "Python 3 (ipykernel)",
   "language": "python",
   "name": "python3"
  },
  "language_info": {
   "codemirror_mode": {
    "name": "ipython",
    "version": 3
   },
   "file_extension": ".py",
   "mimetype": "text/x-python",
   "name": "python",
   "nbconvert_exporter": "python",
   "pygments_lexer": "ipython3",
   "version": "3.10.9"
  }
 },
 "nbformat": 4,
 "nbformat_minor": 5
}
